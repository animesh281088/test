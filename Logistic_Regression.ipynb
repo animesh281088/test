{
 "cells": [
  {
   "cell_type": "code",
   "execution_count": 3,
   "metadata": {},
   "outputs": [],
   "source": [
    "import pandas as pd\n",
    "import numpy as np\n",
    "import matplotlib.pyplot as plt"
   ]
  },
  {
   "cell_type": "code",
   "execution_count": 4,
   "metadata": {},
   "outputs": [],
   "source": [
    "cr =  pd.read_csv(r\"C:\\Users\\animesh\\Documents\\CreditRisk.csv\")"
   ]
  },
  {
   "cell_type": "code",
   "execution_count": 5,
   "metadata": {},
   "outputs": [],
   "source": [
    "#cr.head(50)"
   ]
  },
  {
   "cell_type": "code",
   "execution_count": 6,
   "metadata": {},
   "outputs": [],
   "source": [
    "#cr.isnull().sum()"
   ]
  },
  {
   "cell_type": "code",
   "execution_count": 7,
   "metadata": {},
   "outputs": [],
   "source": [
    "cr.Gender.fillna(\"Male\" , inplace = True)\n",
    "cr.Married.fillna(\"No\" , inplace = True)\n",
    "cr.Dependents.fillna(0, inplace = True)\n",
    "cr.Self_Employed.fillna(\"No\" , inplace = True)\n",
    "cr.LoanAmount.fillna(cr.LoanAmount.mean() , inplace = True)\n",
    "cr.Credit_History.fillna( 1 , inplace = True)\n",
    "cr.Loan_Amount_Term.fillna(cr.Loan_Amount_Term.mean()  , inplace = True)"
   ]
  },
  {
   "cell_type": "code",
   "execution_count": 8,
   "metadata": {},
   "outputs": [],
   "source": [
    "#cr.isnull().sum()"
   ]
  },
  {
   "cell_type": "code",
   "execution_count": 9,
   "metadata": {},
   "outputs": [],
   "source": [
    "# convert categoriacl / non numeric to numeric "
   ]
  },
  {
   "cell_type": "code",
   "execution_count": 10,
   "metadata": {},
   "outputs": [],
   "source": [
    "cr.Gender.replace({\"Male\" :0 , \"Female\" :1}, inplace = True )\n",
    "cr.Self_Employed.replace({\"Yes\" :1 , \"No\" :0}, inplace = True)\n",
    "cr.Education.replace({\"Graduate\" :1 , \"Not Graduate\" :0}, inplace = True)\n",
    "cr.Married.replace({\"Yes\":1 , \"No\" :0}, inplace = True )\n",
    "cr.Property_Area.replace({\"Semiurban\" :1 , \"Urban\" :2  , \"Rural\" :0}, inplace = True)\n",
    "cr.Loan_Status.replace({\"Y\" :1 , \"N\" :0}, inplace = True)\n",
    "\n",
    "\n",
    "\n"
   ]
  },
  {
   "cell_type": "code",
   "execution_count": 11,
   "metadata": {},
   "outputs": [
    {
     "data": {
      "text/html": [
       "<div>\n",
       "<style scoped>\n",
       "    .dataframe tbody tr th:only-of-type {\n",
       "        vertical-align: middle;\n",
       "    }\n",
       "\n",
       "    .dataframe tbody tr th {\n",
       "        vertical-align: top;\n",
       "    }\n",
       "\n",
       "    .dataframe thead th {\n",
       "        text-align: right;\n",
       "    }\n",
       "</style>\n",
       "<table border=\"1\" class=\"dataframe\">\n",
       "  <thead>\n",
       "    <tr style=\"text-align: right;\">\n",
       "      <th></th>\n",
       "      <th>Loan_ID</th>\n",
       "      <th>Gender</th>\n",
       "      <th>Married</th>\n",
       "      <th>Dependents</th>\n",
       "      <th>Education</th>\n",
       "      <th>Self_Employed</th>\n",
       "      <th>ApplicantIncome</th>\n",
       "      <th>CoapplicantIncome</th>\n",
       "      <th>LoanAmount</th>\n",
       "      <th>Loan_Amount_Term</th>\n",
       "      <th>Credit_History</th>\n",
       "      <th>Property_Area</th>\n",
       "      <th>Loan_Status</th>\n",
       "    </tr>\n",
       "  </thead>\n",
       "  <tbody>\n",
       "    <tr>\n",
       "      <th>0</th>\n",
       "      <td>LP001002</td>\n",
       "      <td>0</td>\n",
       "      <td>0</td>\n",
       "      <td>0.0</td>\n",
       "      <td>1</td>\n",
       "      <td>0</td>\n",
       "      <td>5849</td>\n",
       "      <td>0.0</td>\n",
       "      <td>142.51153</td>\n",
       "      <td>360.0</td>\n",
       "      <td>1.0</td>\n",
       "      <td>2</td>\n",
       "      <td>1</td>\n",
       "    </tr>\n",
       "    <tr>\n",
       "      <th>1</th>\n",
       "      <td>LP001003</td>\n",
       "      <td>0</td>\n",
       "      <td>1</td>\n",
       "      <td>1.0</td>\n",
       "      <td>1</td>\n",
       "      <td>0</td>\n",
       "      <td>4583</td>\n",
       "      <td>1508.0</td>\n",
       "      <td>128.00000</td>\n",
       "      <td>360.0</td>\n",
       "      <td>1.0</td>\n",
       "      <td>0</td>\n",
       "      <td>0</td>\n",
       "    </tr>\n",
       "    <tr>\n",
       "      <th>2</th>\n",
       "      <td>LP001005</td>\n",
       "      <td>0</td>\n",
       "      <td>1</td>\n",
       "      <td>0.0</td>\n",
       "      <td>1</td>\n",
       "      <td>1</td>\n",
       "      <td>3000</td>\n",
       "      <td>0.0</td>\n",
       "      <td>66.00000</td>\n",
       "      <td>360.0</td>\n",
       "      <td>1.0</td>\n",
       "      <td>2</td>\n",
       "      <td>1</td>\n",
       "    </tr>\n",
       "    <tr>\n",
       "      <th>3</th>\n",
       "      <td>LP001006</td>\n",
       "      <td>0</td>\n",
       "      <td>1</td>\n",
       "      <td>0.0</td>\n",
       "      <td>0</td>\n",
       "      <td>0</td>\n",
       "      <td>2583</td>\n",
       "      <td>2358.0</td>\n",
       "      <td>120.00000</td>\n",
       "      <td>360.0</td>\n",
       "      <td>1.0</td>\n",
       "      <td>2</td>\n",
       "      <td>1</td>\n",
       "    </tr>\n",
       "    <tr>\n",
       "      <th>4</th>\n",
       "      <td>LP001008</td>\n",
       "      <td>0</td>\n",
       "      <td>0</td>\n",
       "      <td>0.0</td>\n",
       "      <td>1</td>\n",
       "      <td>0</td>\n",
       "      <td>6000</td>\n",
       "      <td>0.0</td>\n",
       "      <td>141.00000</td>\n",
       "      <td>360.0</td>\n",
       "      <td>1.0</td>\n",
       "      <td>2</td>\n",
       "      <td>1</td>\n",
       "    </tr>\n",
       "  </tbody>\n",
       "</table>\n",
       "</div>"
      ],
      "text/plain": [
       "    Loan_ID  Gender  Married  Dependents  Education  Self_Employed  \\\n",
       "0  LP001002       0        0         0.0          1              0   \n",
       "1  LP001003       0        1         1.0          1              0   \n",
       "2  LP001005       0        1         0.0          1              1   \n",
       "3  LP001006       0        1         0.0          0              0   \n",
       "4  LP001008       0        0         0.0          1              0   \n",
       "\n",
       "   ApplicantIncome  CoapplicantIncome  LoanAmount  Loan_Amount_Term  \\\n",
       "0             5849                0.0   142.51153             360.0   \n",
       "1             4583             1508.0   128.00000             360.0   \n",
       "2             3000                0.0    66.00000             360.0   \n",
       "3             2583             2358.0   120.00000             360.0   \n",
       "4             6000                0.0   141.00000             360.0   \n",
       "\n",
       "   Credit_History  Property_Area  Loan_Status  \n",
       "0             1.0              2            1  \n",
       "1             1.0              0            0  \n",
       "2             1.0              2            1  \n",
       "3             1.0              2            1  \n",
       "4             1.0              2            1  "
      ]
     },
     "execution_count": 11,
     "metadata": {},
     "output_type": "execute_result"
    }
   ],
   "source": [
    "cr.head()"
   ]
  },
  {
   "cell_type": "code",
   "execution_count": 12,
   "metadata": {},
   "outputs": [
    {
     "data": {
      "text/plain": [
       "(981, 13)"
      ]
     },
     "execution_count": 12,
     "metadata": {},
     "output_type": "execute_result"
    }
   ],
   "source": [
    "cr.shape"
   ]
  },
  {
   "cell_type": "code",
   "execution_count": 13,
   "metadata": {},
   "outputs": [],
   "source": [
    "cr_x = cr.iloc[ : , 1:12]\n",
    "cr_y = cr.iloc[ : , 12]"
   ]
  },
  {
   "cell_type": "code",
   "execution_count": 14,
   "metadata": {},
   "outputs": [
    {
     "data": {
      "text/html": [
       "<div>\n",
       "<style scoped>\n",
       "    .dataframe tbody tr th:only-of-type {\n",
       "        vertical-align: middle;\n",
       "    }\n",
       "\n",
       "    .dataframe tbody tr th {\n",
       "        vertical-align: top;\n",
       "    }\n",
       "\n",
       "    .dataframe thead th {\n",
       "        text-align: right;\n",
       "    }\n",
       "</style>\n",
       "<table border=\"1\" class=\"dataframe\">\n",
       "  <thead>\n",
       "    <tr style=\"text-align: right;\">\n",
       "      <th></th>\n",
       "      <th>Gender</th>\n",
       "      <th>Married</th>\n",
       "      <th>Dependents</th>\n",
       "      <th>Education</th>\n",
       "      <th>Self_Employed</th>\n",
       "      <th>ApplicantIncome</th>\n",
       "      <th>CoapplicantIncome</th>\n",
       "      <th>LoanAmount</th>\n",
       "      <th>Loan_Amount_Term</th>\n",
       "      <th>Credit_History</th>\n",
       "      <th>Property_Area</th>\n",
       "    </tr>\n",
       "  </thead>\n",
       "  <tbody>\n",
       "    <tr>\n",
       "      <th>0</th>\n",
       "      <td>0</td>\n",
       "      <td>0</td>\n",
       "      <td>0.0</td>\n",
       "      <td>1</td>\n",
       "      <td>0</td>\n",
       "      <td>5849</td>\n",
       "      <td>0.0</td>\n",
       "      <td>142.51153</td>\n",
       "      <td>360.0</td>\n",
       "      <td>1.0</td>\n",
       "      <td>2</td>\n",
       "    </tr>\n",
       "    <tr>\n",
       "      <th>1</th>\n",
       "      <td>0</td>\n",
       "      <td>1</td>\n",
       "      <td>1.0</td>\n",
       "      <td>1</td>\n",
       "      <td>0</td>\n",
       "      <td>4583</td>\n",
       "      <td>1508.0</td>\n",
       "      <td>128.00000</td>\n",
       "      <td>360.0</td>\n",
       "      <td>1.0</td>\n",
       "      <td>0</td>\n",
       "    </tr>\n",
       "    <tr>\n",
       "      <th>2</th>\n",
       "      <td>0</td>\n",
       "      <td>1</td>\n",
       "      <td>0.0</td>\n",
       "      <td>1</td>\n",
       "      <td>1</td>\n",
       "      <td>3000</td>\n",
       "      <td>0.0</td>\n",
       "      <td>66.00000</td>\n",
       "      <td>360.0</td>\n",
       "      <td>1.0</td>\n",
       "      <td>2</td>\n",
       "    </tr>\n",
       "    <tr>\n",
       "      <th>3</th>\n",
       "      <td>0</td>\n",
       "      <td>1</td>\n",
       "      <td>0.0</td>\n",
       "      <td>0</td>\n",
       "      <td>0</td>\n",
       "      <td>2583</td>\n",
       "      <td>2358.0</td>\n",
       "      <td>120.00000</td>\n",
       "      <td>360.0</td>\n",
       "      <td>1.0</td>\n",
       "      <td>2</td>\n",
       "    </tr>\n",
       "    <tr>\n",
       "      <th>4</th>\n",
       "      <td>0</td>\n",
       "      <td>0</td>\n",
       "      <td>0.0</td>\n",
       "      <td>1</td>\n",
       "      <td>0</td>\n",
       "      <td>6000</td>\n",
       "      <td>0.0</td>\n",
       "      <td>141.00000</td>\n",
       "      <td>360.0</td>\n",
       "      <td>1.0</td>\n",
       "      <td>2</td>\n",
       "    </tr>\n",
       "  </tbody>\n",
       "</table>\n",
       "</div>"
      ],
      "text/plain": [
       "   Gender  Married  Dependents  Education  Self_Employed  ApplicantIncome  \\\n",
       "0       0        0         0.0          1              0             5849   \n",
       "1       0        1         1.0          1              0             4583   \n",
       "2       0        1         0.0          1              1             3000   \n",
       "3       0        1         0.0          0              0             2583   \n",
       "4       0        0         0.0          1              0             6000   \n",
       "\n",
       "   CoapplicantIncome  LoanAmount  Loan_Amount_Term  Credit_History  \\\n",
       "0                0.0   142.51153             360.0             1.0   \n",
       "1             1508.0   128.00000             360.0             1.0   \n",
       "2                0.0    66.00000             360.0             1.0   \n",
       "3             2358.0   120.00000             360.0             1.0   \n",
       "4                0.0   141.00000             360.0             1.0   \n",
       "\n",
       "   Property_Area  \n",
       "0              2  \n",
       "1              0  \n",
       "2              2  \n",
       "3              2  \n",
       "4              2  "
      ]
     },
     "execution_count": 14,
     "metadata": {},
     "output_type": "execute_result"
    }
   ],
   "source": [
    "cr_x.head()"
   ]
  },
  {
   "cell_type": "code",
   "execution_count": 15,
   "metadata": {},
   "outputs": [],
   "source": [
    "from sklearn.model_selection import train_test_split"
   ]
  },
  {
   "cell_type": "code",
   "execution_count": 16,
   "metadata": {},
   "outputs": [],
   "source": [
    "cr_x_train , cr_x_test , cr_y_train , cr_y_test = train_test_split(cr_x  , cr_y , test_size = .2)"
   ]
  },
  {
   "cell_type": "code",
   "execution_count": 17,
   "metadata": {},
   "outputs": [
    {
     "name": "stdout",
     "output_type": "stream",
     "text": [
      "(784, 11)\n",
      "(784,)\n",
      "------------------------\n",
      "(197, 11)\n",
      "(197,)\n"
     ]
    }
   ],
   "source": [
    "print(cr_x_train.shape)\n",
    "print(cr_y_train.shape)\n",
    "print(\"------------------------\")\n",
    "print(cr_x_test.shape)\n",
    "print(cr_y_test.shape)"
   ]
  },
  {
   "cell_type": "code",
   "execution_count": 18,
   "metadata": {},
   "outputs": [],
   "source": [
    "from sklearn.linear_model import LogisticRegression"
   ]
  },
  {
   "cell_type": "code",
   "execution_count": 19,
   "metadata": {},
   "outputs": [],
   "source": [
    "log_reg = LogisticRegression(class_weight= 'balanced')"
   ]
  },
  {
   "cell_type": "code",
   "execution_count": 20,
   "metadata": {},
   "outputs": [
    {
     "name": "stderr",
     "output_type": "stream",
     "text": [
      "C:\\Users\\animesh\\anaconda3\\lib\\site-packages\\sklearn\\linear_model\\_logistic.py:765: ConvergenceWarning: lbfgs failed to converge (status=1):\n",
      "STOP: TOTAL NO. of ITERATIONS REACHED LIMIT.\n",
      "\n",
      "Increase the number of iterations (max_iter) or scale the data as shown in:\n",
      "    https://scikit-learn.org/stable/modules/preprocessing.html\n",
      "Please also refer to the documentation for alternative solver options:\n",
      "    https://scikit-learn.org/stable/modules/linear_model.html#logistic-regression\n",
      "  extra_warning_msg=_LOGISTIC_SOLVER_CONVERGENCE_MSG)\n"
     ]
    }
   ],
   "source": [
    "log_reg.fit(cr_x_train, cr_y_train);"
   ]
  },
  {
   "cell_type": "code",
   "execution_count": 21,
   "metadata": {},
   "outputs": [
    {
     "data": {
      "text/plain": [
       "array([0, 1, 0, 1, 1, 1, 0, 1, 1, 1, 0, 1, 1, 1, 1, 1, 1, 1, 1, 1, 1, 1,\n",
       "       0, 0, 1, 1, 1, 1, 1, 1, 1, 1, 1, 1, 1, 1, 1, 0, 1, 1, 1, 0, 0, 0,\n",
       "       1, 1, 0, 1, 1, 1, 1, 0, 0, 0, 1, 1, 0, 0, 1, 1, 0, 0, 1, 1, 1, 1,\n",
       "       1, 1, 1, 1, 0, 1, 1, 0, 1, 1, 1, 1, 0, 1, 1, 1, 1, 0, 1, 0, 0, 0,\n",
       "       1, 1, 1, 1, 0, 1, 0, 1, 1, 0, 1, 1, 0, 1, 1, 0, 1, 0, 0, 1, 0, 1,\n",
       "       1, 0, 1, 0, 1, 1, 0, 1, 1, 1, 1, 1, 1, 1, 1, 0, 1, 1, 1, 1, 1, 1,\n",
       "       1, 1, 1, 0, 1, 1, 0, 1, 1, 1, 1, 1, 1, 1, 1, 1, 1, 1, 1, 0, 0, 0,\n",
       "       1, 1, 1, 1, 0, 1, 0, 1, 1, 1, 1, 1, 1, 1, 1, 1, 0, 1, 1, 1, 1, 1,\n",
       "       1, 1, 1, 1, 1, 1, 1, 1, 0, 1, 1, 1, 1, 1, 1, 1, 0, 1, 0, 1, 1],\n",
       "      dtype=int64)"
      ]
     },
     "execution_count": 21,
     "metadata": {},
     "output_type": "execute_result"
    }
   ],
   "source": [
    "pred_test = log_reg.predict(cr_x_test)\n",
    "pred_test"
   ]
  },
  {
   "cell_type": "code",
   "execution_count": 22,
   "metadata": {},
   "outputs": [],
   "source": [
    "from sklearn.metrics import confusion_matrix"
   ]
  },
  {
   "cell_type": "code",
   "execution_count": 23,
   "metadata": {},
   "outputs": [
    {
     "data": {
      "text/plain": [
       "array([[ 32,  16],\n",
       "       [ 17, 132]], dtype=int64)"
      ]
     },
     "execution_count": 23,
     "metadata": {},
     "output_type": "execute_result"
    }
   ],
   "source": [
    "tab1 = confusion_matrix(pred_test , cr_y_test)\n",
    "tab1"
   ]
  },
  {
   "cell_type": "code",
   "execution_count": 24,
   "metadata": {},
   "outputs": [
    {
     "data": {
      "text/plain": [
       "83.24873096446701"
      ]
     },
     "execution_count": 24,
     "metadata": {},
     "output_type": "execute_result"
    }
   ],
   "source": [
    "tab1.diagonal().sum() / tab1.sum() * 100"
   ]
  },
  {
   "cell_type": "code",
   "execution_count": 25,
   "metadata": {},
   "outputs": [
    {
     "data": {
      "text/plain": [
       "array([[0.94173623, 0.05826377],\n",
       "       [0.17584723, 0.82415277],\n",
       "       [0.55722022, 0.44277978],\n",
       "       [0.19970108, 0.80029892],\n",
       "       [0.30174571, 0.69825429],\n",
       "       [0.17866007, 0.82133993],\n",
       "       [0.52005796, 0.47994204],\n",
       "       [0.19385812, 0.80614188],\n",
       "       [0.4342881 , 0.5657119 ],\n",
       "       [0.31340152, 0.68659848],\n",
       "       [0.93870829, 0.06129171],\n",
       "       [0.36819544, 0.63180456],\n",
       "       [0.26859892, 0.73140108],\n",
       "       [0.20874022, 0.79125978],\n",
       "       [0.43297162, 0.56702838],\n",
       "       [0.23445751, 0.76554249],\n",
       "       [0.33414383, 0.66585617],\n",
       "       [0.42416271, 0.57583729],\n",
       "       [0.36181575, 0.63818425],\n",
       "       [0.3530983 , 0.6469017 ],\n",
       "       [0.27245359, 0.72754641],\n",
       "       [0.04496585, 0.95503415],\n",
       "       [0.54000901, 0.45999099],\n",
       "       [0.97728128, 0.02271872],\n",
       "       [0.26592048, 0.73407952],\n",
       "       [0.20701487, 0.79298513],\n",
       "       [0.44364666, 0.55635334],\n",
       "       [0.21996557, 0.78003443],\n",
       "       [0.07573932, 0.92426068],\n",
       "       [0.36938576, 0.63061424],\n",
       "       [0.37800321, 0.62199679],\n",
       "       [0.32095748, 0.67904252],\n",
       "       [0.4688846 , 0.5311154 ],\n",
       "       [0.28676053, 0.71323947],\n",
       "       [0.33361891, 0.66638109],\n",
       "       [0.26155413, 0.73844587],\n",
       "       [0.26417312, 0.73582688],\n",
       "       [0.88802241, 0.11197759],\n",
       "       [0.2537516 , 0.7462484 ],\n",
       "       [0.34064779, 0.65935221],\n",
       "       [0.26151196, 0.73848804],\n",
       "       [0.64169256, 0.35830744],\n",
       "       [0.53470398, 0.46529602],\n",
       "       [0.69777928, 0.30222072],\n",
       "       [0.25941098, 0.74058902],\n",
       "       [0.42445044, 0.57554956],\n",
       "       [0.84387941, 0.15612059],\n",
       "       [0.18993303, 0.81006697],\n",
       "       [0.41773923, 0.58226077],\n",
       "       [0.32182391, 0.67817609],\n",
       "       [0.38497959, 0.61502041],\n",
       "       [0.93677738, 0.06322262],\n",
       "       [0.95687376, 0.04312624],\n",
       "       [0.82014855, 0.17985145],\n",
       "       [0.23451497, 0.76548503],\n",
       "       [0.26456439, 0.73543561],\n",
       "       [0.58416469, 0.41583531],\n",
       "       [0.95748098, 0.04251902],\n",
       "       [0.32769786, 0.67230214],\n",
       "       [0.28073319, 0.71926681],\n",
       "       [0.50472812, 0.49527188],\n",
       "       [0.90741553, 0.09258447],\n",
       "       [0.45153781, 0.54846219],\n",
       "       [0.3366236 , 0.6633764 ],\n",
       "       [0.29069746, 0.70930254],\n",
       "       [0.29686816, 0.70313184],\n",
       "       [0.37922189, 0.62077811],\n",
       "       [0.29773984, 0.70226016],\n",
       "       [0.27075881, 0.72924119],\n",
       "       [0.42226482, 0.57773518],\n",
       "       [0.89907866, 0.10092134],\n",
       "       [0.03518393, 0.96481607],\n",
       "       [0.17943609, 0.82056391],\n",
       "       [0.89675432, 0.10324568],\n",
       "       [0.38071054, 0.61928946],\n",
       "       [0.15077069, 0.84922931],\n",
       "       [0.43452559, 0.56547441],\n",
       "       [0.03969019, 0.96030981],\n",
       "       [0.59945434, 0.40054566],\n",
       "       [0.23834156, 0.76165844],\n",
       "       [0.07860034, 0.92139966],\n",
       "       [0.43088971, 0.56911029],\n",
       "       [0.30555019, 0.69444981],\n",
       "       [0.92483851, 0.07516149],\n",
       "       [0.29770772, 0.70229228],\n",
       "       [0.50141917, 0.49858083],\n",
       "       [0.90075074, 0.09924926],\n",
       "       [0.87257166, 0.12742834],\n",
       "       [0.44106074, 0.55893926],\n",
       "       [0.45700515, 0.54299485],\n",
       "       [0.44421076, 0.55578924],\n",
       "       [0.35071213, 0.64928787],\n",
       "       [0.96577991, 0.03422009],\n",
       "       [0.45286001, 0.54713999],\n",
       "       [0.82251892, 0.17748108],\n",
       "       [0.47264052, 0.52735948],\n",
       "       [0.12855771, 0.87144229],\n",
       "       [0.66685538, 0.33314462],\n",
       "       [0.10295694, 0.89704306],\n",
       "       [0.07949794, 0.92050206],\n",
       "       [0.75280111, 0.24719889],\n",
       "       [0.26859756, 0.73140244],\n",
       "       [0.28759485, 0.71240515],\n",
       "       [0.93968554, 0.06031446],\n",
       "       [0.15734999, 0.84265001],\n",
       "       [0.64487268, 0.35512732],\n",
       "       [0.96616313, 0.03383687],\n",
       "       [0.46498268, 0.53501732],\n",
       "       [0.72151161, 0.27848839],\n",
       "       [0.23642649, 0.76357351],\n",
       "       [0.37383191, 0.62616809],\n",
       "       [0.97241961, 0.02758039],\n",
       "       [0.34003059, 0.65996941],\n",
       "       [0.90186852, 0.09813148],\n",
       "       [0.32475464, 0.67524536],\n",
       "       [0.32013555, 0.67986445],\n",
       "       [0.92400929, 0.07599071],\n",
       "       [0.28603188, 0.71396812],\n",
       "       [0.27432033, 0.72567967],\n",
       "       [0.0982532 , 0.9017468 ],\n",
       "       [0.35902268, 0.64097732],\n",
       "       [0.05183551, 0.94816449],\n",
       "       [0.01474868, 0.98525132],\n",
       "       [0.23622925, 0.76377075],\n",
       "       [0.38142117, 0.61857883],\n",
       "       [0.89185123, 0.10814877],\n",
       "       [0.25252278, 0.74747722],\n",
       "       [0.11875064, 0.88124936],\n",
       "       [0.30518233, 0.69481767],\n",
       "       [0.44456637, 0.55543363],\n",
       "       [0.25333407, 0.74666593],\n",
       "       [0.21972827, 0.78027173],\n",
       "       [0.39211143, 0.60788857],\n",
       "       [0.3550217 , 0.6449783 ],\n",
       "       [0.30036499, 0.69963501],\n",
       "       [0.57367122, 0.42632878],\n",
       "       [0.32584985, 0.67415015],\n",
       "       [0.25696914, 0.74303086],\n",
       "       [0.95308694, 0.04691306],\n",
       "       [0.2530934 , 0.7469066 ],\n",
       "       [0.28179857, 0.71820143],\n",
       "       [0.17610654, 0.82389346],\n",
       "       [0.40647736, 0.59352264],\n",
       "       [0.28577199, 0.71422801],\n",
       "       [0.21736264, 0.78263736],\n",
       "       [0.41947353, 0.58052647],\n",
       "       [0.33529025, 0.66470975],\n",
       "       [0.30716622, 0.69283378],\n",
       "       [0.38316154, 0.61683846],\n",
       "       [0.23542707, 0.76457293],\n",
       "       [0.2694114 , 0.7305886 ],\n",
       "       [0.94940543, 0.05059457],\n",
       "       [0.52262351, 0.47737649],\n",
       "       [0.93245256, 0.06754744],\n",
       "       [0.29763754, 0.70236246],\n",
       "       [0.36147915, 0.63852085],\n",
       "       [0.39984622, 0.60015378],\n",
       "       [0.19611825, 0.80388175],\n",
       "       [0.81073032, 0.18926968],\n",
       "       [0.06351383, 0.93648617],\n",
       "       [0.52427411, 0.47572589],\n",
       "       [0.18436743, 0.81563257],\n",
       "       [0.40111964, 0.59888036],\n",
       "       [0.41637408, 0.58362592],\n",
       "       [0.30814755, 0.69185245],\n",
       "       [0.33086135, 0.66913865],\n",
       "       [0.16465243, 0.83534757],\n",
       "       [0.39748953, 0.60251047],\n",
       "       [0.41326856, 0.58673144],\n",
       "       [0.26767998, 0.73232002],\n",
       "       [0.92072666, 0.07927334],\n",
       "       [0.28324557, 0.71675443],\n",
       "       [0.07102954, 0.92897046],\n",
       "       [0.20356929, 0.79643071],\n",
       "       [0.09843926, 0.90156074],\n",
       "       [0.1443042 , 0.8556958 ],\n",
       "       [0.30366345, 0.69633655],\n",
       "       [0.23015342, 0.76984658],\n",
       "       [0.1917028 , 0.8082972 ],\n",
       "       [0.3871086 , 0.6128914 ],\n",
       "       [0.40251711, 0.59748289],\n",
       "       [0.4777078 , 0.5222922 ],\n",
       "       [0.25678342, 0.74321658],\n",
       "       [0.24617778, 0.75382222],\n",
       "       [0.92399095, 0.07600905],\n",
       "       [0.09215742, 0.90784258],\n",
       "       [0.27998241, 0.72001759],\n",
       "       [0.42675933, 0.57324067],\n",
       "       [0.42705369, 0.57294631],\n",
       "       [0.3297931 , 0.6702069 ],\n",
       "       [0.23688572, 0.76311428],\n",
       "       [0.31125511, 0.68874489],\n",
       "       [0.50937435, 0.49062565],\n",
       "       [0.48344487, 0.51655513],\n",
       "       [0.6226164 , 0.3773836 ],\n",
       "       [0.37138868, 0.62861132],\n",
       "       [0.319159  , 0.680841  ]])"
      ]
     },
     "execution_count": 25,
     "metadata": {},
     "output_type": "execute_result"
    }
   ],
   "source": [
    "log_reg.predict_proba(cr_x_test)\n"
   ]
  },
  {
   "cell_type": "code",
   "execution_count": 26,
   "metadata": {},
   "outputs": [
    {
     "data": {
      "text/plain": [
       "array([0, 1, 0, 1, 1, 1, 0, 1, 1, 1, 0, 1, 1, 1, 1, 1, 1, 1, 1, 1, 1, 1,\n",
       "       0, 0, 1, 1, 1, 1, 1, 1, 1, 1, 1, 1, 1, 1, 1, 0, 1, 1, 1, 0, 0, 0,\n",
       "       1, 1, 0, 1, 1, 1, 1, 0, 0, 0, 1, 1, 0, 0, 1, 1, 0, 0, 1, 1, 1, 1,\n",
       "       1, 1, 1, 1, 0, 1, 1, 0, 1, 1, 1, 1, 0, 1, 1, 1, 1, 0, 1, 0, 0, 0,\n",
       "       1, 1, 1, 1, 0, 1, 0, 1, 1, 0, 1, 1, 0, 1, 1, 0, 1, 0, 0, 1, 0, 1,\n",
       "       1, 0, 1, 0, 1, 1, 0, 1, 1, 1, 1, 1, 1, 1, 1, 0, 1, 1, 1, 1, 1, 1,\n",
       "       1, 1, 1, 0, 1, 1, 0, 1, 1, 1, 1, 1, 1, 1, 1, 1, 1, 1, 1, 0, 0, 0,\n",
       "       1, 1, 1, 1, 0, 1, 0, 1, 1, 1, 1, 1, 1, 1, 1, 1, 0, 1, 1, 1, 1, 1,\n",
       "       1, 1, 1, 1, 1, 1, 1, 1, 0, 1, 1, 1, 1, 1, 1, 1, 0, 1, 0, 1, 1],\n",
       "      dtype=int64)"
      ]
     },
     "execution_count": 26,
     "metadata": {},
     "output_type": "execute_result"
    }
   ],
   "source": [
    "log_reg.predict(cr_x_test)"
   ]
  },
  {
   "cell_type": "code",
   "execution_count": 27,
   "metadata": {},
   "outputs": [
    {
     "data": {
      "text/plain": [
       "197"
      ]
     },
     "execution_count": 27,
     "metadata": {},
     "output_type": "execute_result"
    }
   ],
   "source": [
    "len(log_reg.predict_proba(cr_x_test))"
   ]
  },
  {
   "cell_type": "code",
   "execution_count": 28,
   "metadata": {},
   "outputs": [
    {
     "data": {
      "text/plain": [
       "[array([-7.89772631e-02,  5.65375651e-01, -6.81319980e-02,  3.62445108e-01,\n",
       "         2.24531935e-01,  2.84801457e-05, -4.35013735e-05, -5.17727480e-03,\n",
       "        -8.00648191e-03,  3.13205363e+00,  3.70650160e-01])]"
      ]
     },
     "execution_count": 28,
     "metadata": {},
     "output_type": "execute_result"
    }
   ],
   "source": [
    "list(log_reg.coef_)"
   ]
  },
  {
   "cell_type": "code",
   "execution_count": 29,
   "metadata": {},
   "outputs": [
    {
     "data": {
      "text/plain": [
       "array([0.06388679])"
      ]
     },
     "execution_count": 29,
     "metadata": {},
     "output_type": "execute_result"
    }
   ],
   "source": [
    "log_reg.intercept_"
   ]
  },
  {
   "cell_type": "code",
   "execution_count": 30,
   "metadata": {},
   "outputs": [],
   "source": [
    "pred_prob_full =log_reg.predict_proba(cr_x)\n",
    "pred_prob_full = pd.DataFrame(pred_prob_full)"
   ]
  },
  {
   "cell_type": "code",
   "execution_count": 31,
   "metadata": {},
   "outputs": [
    {
     "data": {
      "text/html": [
       "<div>\n",
       "<style scoped>\n",
       "    .dataframe tbody tr th:only-of-type {\n",
       "        vertical-align: middle;\n",
       "    }\n",
       "\n",
       "    .dataframe tbody tr th {\n",
       "        vertical-align: top;\n",
       "    }\n",
       "\n",
       "    .dataframe thead th {\n",
       "        text-align: right;\n",
       "    }\n",
       "</style>\n",
       "<table border=\"1\" class=\"dataframe\">\n",
       "  <thead>\n",
       "    <tr style=\"text-align: right;\">\n",
       "      <th></th>\n",
       "      <th>Loan_Id</th>\n",
       "      <th>Prob</th>\n",
       "    </tr>\n",
       "  </thead>\n",
       "  <tbody>\n",
       "    <tr>\n",
       "      <th>0</th>\n",
       "      <td>LP001002</td>\n",
       "      <td>0.699751</td>\n",
       "    </tr>\n",
       "    <tr>\n",
       "      <th>1</th>\n",
       "      <td>LP001003</td>\n",
       "      <td>0.640038</td>\n",
       "    </tr>\n",
       "    <tr>\n",
       "      <th>2</th>\n",
       "      <td>LP001005</td>\n",
       "      <td>0.875556</td>\n",
       "    </tr>\n",
       "    <tr>\n",
       "      <th>3</th>\n",
       "      <td>LP001006</td>\n",
       "      <td>0.725119</td>\n",
       "    </tr>\n",
       "    <tr>\n",
       "      <th>4</th>\n",
       "      <td>LP001008</td>\n",
       "      <td>0.702292</td>\n",
       "    </tr>\n",
       "  </tbody>\n",
       "</table>\n",
       "</div>"
      ],
      "text/plain": [
       "    Loan_Id      Prob\n",
       "0  LP001002  0.699751\n",
       "1  LP001003  0.640038\n",
       "2  LP001005  0.875556\n",
       "3  LP001006  0.725119\n",
       "4  LP001008  0.702292"
      ]
     },
     "execution_count": 31,
     "metadata": {},
     "output_type": "execute_result"
    }
   ],
   "source": [
    "customer_data = pd.DataFrame({\"Loan_Id\" :cr.Loan_ID , \"Prob\" : pred_prob_full.iloc[ : , 1]})\n",
    "customer_data.head()"
   ]
  },
  {
   "cell_type": "code",
   "execution_count": 32,
   "metadata": {},
   "outputs": [
    {
     "data": {
      "text/html": [
       "<div>\n",
       "<style scoped>\n",
       "    .dataframe tbody tr th:only-of-type {\n",
       "        vertical-align: middle;\n",
       "    }\n",
       "\n",
       "    .dataframe tbody tr th {\n",
       "        vertical-align: top;\n",
       "    }\n",
       "\n",
       "    .dataframe thead th {\n",
       "        text-align: right;\n",
       "    }\n",
       "</style>\n",
       "<table border=\"1\" class=\"dataframe\">\n",
       "  <thead>\n",
       "    <tr style=\"text-align: right;\">\n",
       "      <th></th>\n",
       "      <th>Loan_Id</th>\n",
       "      <th>Prob</th>\n",
       "    </tr>\n",
       "  </thead>\n",
       "  <tbody>\n",
       "    <tr>\n",
       "      <th>497</th>\n",
       "      <td>LP002588</td>\n",
       "      <td>0.985251</td>\n",
       "    </tr>\n",
       "    <tr>\n",
       "      <th>133</th>\n",
       "      <td>LP001482</td>\n",
       "      <td>0.976506</td>\n",
       "    </tr>\n",
       "    <tr>\n",
       "      <th>14</th>\n",
       "      <td>LP001030</td>\n",
       "      <td>0.975151</td>\n",
       "    </tr>\n",
       "    <tr>\n",
       "      <th>686</th>\n",
       "      <td>LP001375</td>\n",
       "      <td>0.974319</td>\n",
       "    </tr>\n",
       "    <tr>\n",
       "      <th>575</th>\n",
       "      <td>LP002868</td>\n",
       "      <td>0.972536</td>\n",
       "    </tr>\n",
       "  </tbody>\n",
       "</table>\n",
       "</div>"
      ],
      "text/plain": [
       "      Loan_Id      Prob\n",
       "497  LP002588  0.985251\n",
       "133  LP001482  0.976506\n",
       "14   LP001030  0.975151\n",
       "686  LP001375  0.974319\n",
       "575  LP002868  0.972536"
      ]
     },
     "execution_count": 32,
     "metadata": {},
     "output_type": "execute_result"
    }
   ],
   "source": [
    "customer_data = customer_data.sort_values(\"Prob\", ascending= False)\n",
    "customer_data.head()"
   ]
  },
  {
   "cell_type": "code",
   "execution_count": 33,
   "metadata": {},
   "outputs": [],
   "source": [
    "#  lets build the AUROC CURVE"
   ]
  },
  {
   "cell_type": "code",
   "execution_count": 34,
   "metadata": {},
   "outputs": [],
   "source": [
    "from sklearn.metrics import roc_curve\n",
    "from sklearn.metrics import roc_auc_score"
   ]
  },
  {
   "cell_type": "code",
   "execution_count": 35,
   "metadata": {},
   "outputs": [],
   "source": [
    "pred_test = log_reg.predict(cr_x_test)\n",
    "#pred_test"
   ]
  },
  {
   "cell_type": "code",
   "execution_count": 36,
   "metadata": {},
   "outputs": [
    {
     "data": {
      "text/plain": [
       "0.7762863534675616"
      ]
     },
     "execution_count": 36,
     "metadata": {},
     "output_type": "execute_result"
    }
   ],
   "source": [
    "roc_auc_score(pred_test , cr_y_test)    # Area under the curve value"
   ]
  },
  {
   "cell_type": "code",
   "execution_count": 37,
   "metadata": {},
   "outputs": [],
   "source": [
    "pred_test_prob = log_reg.predict_proba(cr_x_test)"
   ]
  },
  {
   "cell_type": "code",
   "execution_count": 38,
   "metadata": {},
   "outputs": [],
   "source": [
    "fpr , tpr , thre = roc_curve(cr_y_test ,  pred_test_prob[:, 1])"
   ]
  },
  {
   "cell_type": "code",
   "execution_count": 43,
   "metadata": {},
   "outputs": [
    {
     "data": {
      "text/plain": [
       "Text(0.3, 0.5, 'Area under curve is .77')"
      ]
     },
     "execution_count": 43,
     "metadata": {},
     "output_type": "execute_result"
    },
    {
     "data": {
      "image/png": "[encoded data removed]",
      "text/plain": [
       "<Figure size 576x576 with 1 Axes>"
      ]
     },
     "metadata": {
      "needs_background": "light"
     },
     "output_type": "display_data"
    }
   ],
   "source": [
    "plt.figure(figsize= (8 , 8))\n",
    "plt.plot(fpr, tpr, color = \"r\")\n",
    "plt.grid(linestyle =  '--')\n",
    "plt.xlabel(\"Fpr Values\", size = 15 )\n",
    "plt.ylabel(\"Tpr Values\", size = 15 )\n",
    "plt.title(\" Fpr Vs Tpr on the Credit Risk Data\",size = 15 )\n",
    "plt.text(x = .3 , y = .5 , s= \"Area under curve is .77\" , size = 12)"
   ]
  },
  {
   "cell_type": "code",
   "execution_count": null,
   "metadata": {},
   "outputs": [],
   "source": []
  },
  {
   "cell_type": "code",
   "execution_count": 40,
   "metadata": {},
   "outputs": [],
   "source": [
    "#from sklearn.linear_model import LogisticRegressionCV\n",
    "#reg_model = LogisticRegressionCV()"
   ]
  },
  {
   "cell_type": "code",
   "execution_count": 41,
   "metadata": {},
   "outputs": [],
   "source": [
    "#reg_model.fit(cr_x_train, cr_y_train)"
   ]
  },
  {
   "cell_type": "code",
   "execution_count": 42,
   "metadata": {},
   "outputs": [],
   "source": [
    "#reg_model.predict(cr_x_test)"
   ]
  },
  {
   "cell_type": "code",
   "execution_count": null,
   "metadata": {},
   "outputs": [],
   "source": []
  }
 ],
 "metadata": {
  "kernelspec": {
   "display_name": "Python 3",
   "language": "python",
   "name": "python3"
  },
  "language_info": {
   "codemirror_mode": {
    "name": "ipython",
    "version": 3
   },
   "file_extension": ".py",
   "mimetype": "text/x-python",
   "name": "python",
   "nbconvert_exporter": "python",
   "pygments_lexer": "ipython3",
   "version": "3.7.6"
  }
 },
 "nbformat": 4,
 "nbformat_minor": 2
}
